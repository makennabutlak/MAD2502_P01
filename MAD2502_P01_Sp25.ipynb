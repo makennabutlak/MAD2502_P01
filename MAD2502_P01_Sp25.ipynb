{
 "cells": [
  {
   "cell_type": "markdown",
   "id": "5bec01d4",
   "metadata": {},
   "source": [
    "<H3 align = \"right\">Spring 2025 Computer Project 01</H3>\n",
    "\n",
    "## Group Number: `6`\n",
    " \n",
    "\n",
    "## Names of Student in Group:\n",
    "- Name: `Makenna Butlak`\n",
    "- Name: `Solomiia Ivanovska`\n",
    "- Name: `Gabrille Polito`\n"
   ]
  },
  {
   "cell_type": "code",
   "id": "0515ac07",
   "metadata": {
    "jupyter": {
     "is_executing": true
    }
   },
   "source": [
    "# You shouldn't need anything beyond these imports.  If you feel you do, talk to me.\n",
    "# You will need to import these inside of the respective py files.\n",
    "import numpy as np"
   ],
   "outputs": [],
   "execution_count": null
  },
  {
   "cell_type": "markdown",
   "id": "a857504a58899e54",
   "metadata": {},
   "source": [
    "---  \n",
    "# Part 1 (5 points)\n",
    "\n",
    "Set up a Git repository on Github for this project.  Only *one person* from the group should make the repository and then add the other group members as collaborators.  Being a collaborator gives you full commit and push access.  In a typical setting, someone else would own the repository, and you would only be able to request that the repository owner would merge your changes through a pull request.\n",
    "* Creating a repository: https://docs.github.com/en/repositories/creating-and-managing-repositories/quickstart-for-repositories\n",
    "* Adding collaborators: https://docs.github.com/en/account-and-profile/setting-up-and-managing-your-personal-account-on-github/managing-access-to-your-personal-repositories/inviting-collaborators-to-a-personal-repository\n",
    "\n",
    "By the end of this assignment your repository should contain this notebook (mostly unchaged), `riemann.py` and `barycentric.py`."
github link- 
https://github.com/makennabutlak/MAD2502_P01.git
git@github.com:makennabutlak/MAD2502_P01.git
gh repo clone makennabutlak/MAD2502_P01
   ]
  },
  {
   "metadata": {},
   "cell_type": "markdown",
   "source": [
    "---\n",
    "# Part 2 (15 points)\n",
    "The Riemann integral of a function measures the (signed) area between a curve and the x-axis over some interval.  Given a function $f: \\mathbb{R}\\rightarrow\\mathbb{R}$, the Riemann integral over the interval $[a,b]$ is $$\\int_a^b f(x) dx.$$\n",
    "There are a variety of ways to approximate this value:\n",
    "* The *left-endpoint* method approximates with $f(a)\\cdot(b-a)$ (the rectangle with height $f(a)$ and width $(b-a)$)\n",
    "* The *trapezoidal* method approximates with the trapezoid with vertices $(a,0), (a, f(a)), (b, f(b)),$ and $(b, 0)$.\n",
    "* *Simpson's* method approximates with $\\frac16\\left(f(a) + 4f(\\frac{a+b}{2}) + f(b)\\right)$\n",
    "\n",
    "These are very crude estimates $[a,b]$ is large, so typically we break the interval up into smaller sub-intervals by taking points $a = x_0 < x_1 < \\dots < x_n = b $ and summing up the approximations over each interval $[x_i, x_{i+1}]$.\n",
    "\n",
    "## Your Task\n",
    "* Create a file `riemann.py` in your repository.\n",
    "* Within this file create functions `left_endpoint`, `trapezoid`, and `simpson`.  These functions will approximate Riemann integrals.\n",
    "* Each function will have the same signature with two input arguments:\n",
    "    * `x_vals: np.ndarray`, a one-dimensional NumPy array containing the x-values used in approximating the integral.  These are the values $x_n$ as above.  In particular, the interval to integrate over is `[x_vals[0], x_vals[-1]]`\n",
    "    * `func: np.ufunc`, a NumPy universal function to approximate the integral of.\n"
   ],
   "id": "73b03439f86c4e36"
  },
  {
   "metadata": {},
   "cell_type": "markdown",
   "source": [
    "### Testing Code\n",
    "The below can be used to help test your code.  It uses the functions you write to verify that the $\\int_0^\\pi \\sin(x)dx = 2$.  You should edit this cell to approximate other integrals as this test alone is not terribly thorough."
   ],
   "id": "c007c7473cc32974"
  },
  {
   "metadata": {
    "ExecuteTime": {
     "end_time": "2025-02-21T23:20:55.707330Z",
     "start_time": "2025-02-21T23:20:55.698934Z"
    }
   },
   "cell_type": "code",
   "source": [
    "import numpy as np\n",
    "import riemann\n",
    "\n",
    "# You may change these definitions to approximate other intervals\n",
    "x_vals = np.linspace(0, np.pi, 10000)\n",
    "func = np.sin\n",
    "\n",
    "# You don't need to change anything below this line\n",
    "left_endpoint_sum = riemann.left_endpoint(x_vals, func)\n",
    "trapezoid_sum = riemann.trapezoid(x_vals, func)\n",
    "simpson_sum = riemann.simpson(x_vals, func)\n",
    "\n",
    "\n",
    "print(f\"Left Endpoint: {left_endpoint_sum}\")\n",
    "print(f\"    Trapezoid: {trapezoid_sum}\")\n",
    "print(f\"      Simpson: {simpson_sum}\")\n"
   ],
   "id": "cae551bada86ab8b",
   "outputs": [
    {
     "name": "stdout",
     "output_type": "stream",
     "text": [
      "Left Endpoint: 1.9999999835473687\n",
      "    Trapezoid: 1.999999983547369\n",
      "      Simpson: 1.999999983547369\n"
     ]
    }
   ],
   "execution_count": 5
  },
  {
   "metadata": {},
   "cell_type": "markdown",
   "source": [
    "---\n",
    "# Part 3 (10 points)\n",
    "A common question in computer graphics is determining whether a point lies within a triangle.  Here we'll consider only case when the point and the triangle lie in the plane.  One way to answer this question is through the use of *barycentric coordinates*.  Given a triangle with vertices $A_1=(x_1, y_1), A_2=(x_2, y_2),$ and $A_3 = (x_3, y_3)$ and a point $P=(x, y)$ the barycentric coordinates of $P$ are $(\\lambda_1, \\lambda_2, \\lambda_3)$ which satisfy the following two conditions.\n",
    "\n",
    "$$\\begin{align*}\n",
    "\\lambda_1 x_1 + \\lambda_2 x_2 + \\lambda_3 x_3 &= x \\\\\n",
    "\\lambda_1 y_1 + \\lambda_2 y_2 + \\lambda_y x_3 &= y \\\\\n",
    "\\lambda_1 + \\lambda_2 + \\lambda_3 &= 1\n",
    "\\end{align*}$$\n",
    "\n",
    "The first two conditions can be interpreted as $\\lambda_1 A_1 + \\lambda_2 A_2 + \\lambda_3 A_3 = P$.  The relevant property of barycentric coordinates is that a point is inside of the the triangle if all coordinates are non-negative.\n",
    "\n",
    "## Your Task\n",
    "To answer this question, do the following:\n",
    "* Add a file `barycentric.py` to your repository.  Within this file you are to define three functions: `get_barycentric_coordinates`, `get_cartesian_coordinates`, and `is_inside_triangle`\n",
    "* The function `get_barycentric_coordinates`:\n",
    "    * Takes two input arguments:\n",
    "        1. A 2-by-3 array called `triangle_coordinates` which has the form $\\begin{pmatrix} x_1 & x_2 & x_3 \\\\ y_1 & y_2 & y_3 \\end{pmatrix}$ using the notation above.\n",
    "        2. A 1d array called `point_coordinates` which has the form $(x, y)$ using the notation above.\n",
    "    * Returns a 1d array which has the form $(\\lambda_1 \\lambda_2 \\lambda_3)$\n",
    "* The function `get_cartesian_coordinates`:\n",
    "    * Takes two input arguments:\n",
    "        1. A 2-by-3 array called `triangle_coordinates` which has the form $\\begin{pmatrix} x_1 & x_2 & x_3 \\\\ y_1 & y_2 & y_3 \\end{pmatrix}$ using the notation above.\n",
    "        2. A 1d array called `barycentric_coordinates` which has the form $(\\lambda_1, \\lambda_2, \\lambda_3)$ using the notation above.\n",
    "    * Returns a 1d array which has the form $(x, y)$\n",
    "* The function `is_inside_triangle` takes the same input arguments as `get_barycentric_coordinates` but it returns a `bool` as to whether the point lies inside of the triangle or not."
   ],
   "id": "fdb92121a222a608"
  },
  {
   "metadata": {},
   "cell_type": "markdown",
   "source": [
    "### Some Testing Code\n",
    "To be kind (and to give you a very basic idea of plotting in Python) I'm giving you some code to let you visually determine whether your `is_inside_triangle` function works.  So you need to have implemented this function prior to testing.\n",
    "* Specify the vertices of the triangle by redefining `tri_point_list`\n",
    "* Specify the point you want to test by redefining `test_point`\n",
    "* When the cell is executed, it will plot your triangle.  The point will be a green dot if it lies within the triangle and red x otherwise."
   ],
   "id": "d610af6faa9126c1"
  },
  {
   "metadata": {
    "ExecuteTime": {
     "end_time": "2025-02-21T23:28:25.659556Z",
     "start_time": "2025-02-21T23:28:25.610091Z"
    }
   },
   "cell_type": "code",
   "source": [
    "%matplotlib inline\n",
    "from matplotlib.patches import Polygon\n",
    "import matplotlib.pyplot as plt\n",
    "import numpy as np\n",
    "\n",
    "import barycentric\n",
    "\n",
    "# Replace point_list's definition with your own\n",
    "tri_point_list = [\n",
    "    (0.5, 1),\n",
    "    (0, .5),\n",
    "    (1, 0)\n",
    "]\n",
    "\n",
    "# Replace test_point's definition with your own\n",
    "test_point = (1, 1)\n",
    "\n",
    "# You don't need to change anything below this line\n",
    "point_matrix = np.vstack([tri_point_list[0],\n",
    "                          tri_point_list[1],\n",
    "                          tri_point_list[2]]).transpose()\n",
    "\n",
    "triangle = Polygon(\n",
    "    tri_point_list,\n",
    ")\n",
    "\n",
    "fig, ax = plt.subplots()\n",
    "ax.add_patch(triangle)\n",
    "\n",
    "x_vals, y_vals = zip(*tri_point_list)\n",
    "\n",
    "if barycentric.is_inside_triangle(point_matrix, test_point):\n",
    "    style = \"go\"\n",
    "else:\n",
    "    style = \"rx\"\n",
    "\n",
    "ax.plot(x_vals, y_vals, \"bo\")\n",
    "ax.plot([test_point[0]], [test_point[1]], style)\n",
    "\n",
    "tri_point_list.append(tri_point_list[0])\n"
   ],
   "id": "58f7cd2d98c7b4e",
   "outputs": [
    {
     "ename": "TypeError",
     "evalue": "'>=' not supported between instances of 'list' and 'int'",
     "output_type": "error",
     "traceback": [
      "\u001B[0;31m---------------------------------------------------------------------------\u001B[0m",
      "\u001B[0;31mTypeError\u001B[0m                                 Traceback (most recent call last)",
      "Cell \u001B[0;32mIn[11], line 32\u001B[0m\n\u001B[1;32m     28\u001B[0m ax\u001B[38;5;241m.\u001B[39madd_patch(triangle)\n\u001B[1;32m     30\u001B[0m x_vals, y_vals \u001B[38;5;241m=\u001B[39m \u001B[38;5;28mzip\u001B[39m(\u001B[38;5;241m*\u001B[39mtri_point_list)\n\u001B[0;32m---> 32\u001B[0m \u001B[38;5;28;01mif\u001B[39;00m \u001B[43mbarycentric\u001B[49m\u001B[38;5;241;43m.\u001B[39;49m\u001B[43mis_inside_triangle\u001B[49m\u001B[43m(\u001B[49m\u001B[43mpoint_matrix\u001B[49m\u001B[43m,\u001B[49m\u001B[43m \u001B[49m\u001B[43mtest_point\u001B[49m\u001B[43m)\u001B[49m:\n\u001B[1;32m     33\u001B[0m     style \u001B[38;5;241m=\u001B[39m \u001B[38;5;124m\"\u001B[39m\u001B[38;5;124mgo\u001B[39m\u001B[38;5;124m\"\u001B[39m\n\u001B[1;32m     34\u001B[0m \u001B[38;5;28;01melse\u001B[39;00m:\n",
      "File \u001B[0;32m~/PycharmProjects/MAD2502_P01/barycentric.py:41\u001B[0m, in \u001B[0;36mis_inside_triangle\u001B[0;34m(triangle_coordinates, point_coordinates)\u001B[0m\n\u001B[1;32m     38\u001B[0m \u001B[38;5;28;01mdef\u001B[39;00m\u001B[38;5;250m \u001B[39m\u001B[38;5;21mis_inside_triangle\u001B[39m(triangle_coordinates: np\u001B[38;5;241m.\u001B[39marray, point_coordinates: np\u001B[38;5;241m.\u001B[39marray) \u001B[38;5;241m-\u001B[39m\u001B[38;5;241m>\u001B[39m \u001B[38;5;28mbool\u001B[39m:\n\u001B[1;32m     39\u001B[0m     barycentric_coords \u001B[38;5;241m=\u001B[39m get_barycentric_coordinates(triangle_coordinates, point_coordinates)\n\u001B[0;32m---> 41\u001B[0m     \u001B[38;5;28;01mreturn\u001B[39;00m np\u001B[38;5;241m.\u001B[39mall(\u001B[43mbarycentric_coords\u001B[49m\u001B[43m \u001B[49m\u001B[38;5;241;43m>\u001B[39;49m\u001B[38;5;241;43m=\u001B[39;49m\u001B[43m \u001B[49m\u001B[38;5;241;43m0\u001B[39;49m) \u001B[38;5;129;01mand\u001B[39;00m np\u001B[38;5;241m.\u001B[39mall(barycentric_coords \u001B[38;5;241m<\u001B[39m\u001B[38;5;241m=\u001B[39m \u001B[38;5;241m1\u001B[39m)\n",
      "\u001B[0;31mTypeError\u001B[0m: '>=' not supported between instances of 'list' and 'int'"
     ]
    },
    {
     "data": {
      "text/plain": [
       "<Figure size 640x480 with 1 Axes>"
      ],
      "image/png": "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"
     },
     "metadata": {},
     "output_type": "display_data"
    }
   ],
   "execution_count": 11
  }
 ],
 "metadata": {
  "kernelspec": {
   "display_name": "Python 3 (ipykernel)",
   "language": "python",
   "name": "python3"
  },
  "language_info": {
   "codemirror_mode": {
    "name": "ipython",
    "version": 3
   },
   "file_extension": ".py",
   "mimetype": "text/x-python",
   "name": "python",
   "nbconvert_exporter": "python",
   "pygments_lexer": "ipython3",
   "version": "3.12.3"
  }
 },
 "nbformat": 4,
 "nbformat_minor": 5
}
